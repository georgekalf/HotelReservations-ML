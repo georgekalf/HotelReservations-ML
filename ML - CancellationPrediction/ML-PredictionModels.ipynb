{
 "cells": [
  {
   "cell_type": "code",
   "execution_count": 20,
   "metadata": {},
   "outputs": [],
   "source": [
    "# loading libraries for machine learning - predection analysis\n",
    "import pandas as pd\n",
    "import matplotlib.pyplot as plt\n",
    "import seaborn as sns\n",
    "from sklearn.model_selection import train_test_split\n",
    "from sklearn.preprocessing import StandardScaler,LabelEncoder\n",
    "from sklearn.linear_model import LogisticRegression\n",
    "from sklearn.decomposition import PCA\n",
    "from sklearn.metrics import accuracy_score, classification_report, confusion_matrix"
   ]
  },
  {
   "cell_type": "code",
   "execution_count": 21,
   "metadata": {},
   "outputs": [],
   "source": [
    "# loading the file\n",
    "hotel_df = pd.read_csv(\"/Users/georgekalfas/Downloads/ML-HotelReservations/EDA-ML/Hotel Reservations.csv\")"
   ]
  },
  {
   "cell_type": "markdown",
   "metadata": {},
   "source": [
    "# Prediction Models"
   ]
  },
  {
   "cell_type": "code",
   "execution_count": 22,
   "metadata": {},
   "outputs": [
    {
     "name": "stdout",
     "output_type": "stream",
     "text": [
      "Accuracy: 0.81\n",
      "\n",
      "Classification Report:\n",
      "              precision    recall  f1-score   support\n",
      "\n",
      "    Canceled       0.76      0.62      0.68      2416\n",
      "Not_Canceled       0.83      0.90      0.86      4839\n",
      "\n",
      "    accuracy                           0.81      7255\n",
      "   macro avg       0.79      0.76      0.77      7255\n",
      "weighted avg       0.80      0.81      0.80      7255\n",
      "\n",
      "\n",
      "Confusion Matrix:\n",
      "[[1497  919]\n",
      " [ 483 4356]]\n"
     ]
    }
   ],
   "source": [
    "# Load your dataset (assuming it's in a DataFrame called 'hotel_df')\n",
    "# Replace 'target_column' with the actual column name you want to predict\n",
    "target_column = 'booking_status'\n",
    "\n",
    "# Select features and target variable\n",
    "features = hotel_df.drop(target_column, axis=1)  # Assuming 'booking_status' is the target\n",
    "target = hotel_df[target_column]\n",
    "\n",
    "# Handle categorical columns if any\n",
    "label_encoder = LabelEncoder()\n",
    "for column in features.columns:\n",
    "    if features[column].dtype == 'object':\n",
    "        features[column] = label_encoder.fit_transform(features[column])\n",
    "\n",
    "# Split the dataset into train and test sets\n",
    "X_train, X_test, y_train, y_test = train_test_split(features, target, test_size=0.2, random_state=42)\n",
    "\n",
    "# Standardize the features\n",
    "scaler = StandardScaler()\n",
    "X_train = scaler.fit_transform(X_train)\n",
    "X_test = scaler.transform(X_test)\n",
    "\n",
    "# Create and train the Logistic Regression model\n",
    "model = LogisticRegression(random_state=42)\n",
    "model.fit(X_train, y_train)\n",
    "\n",
    "# Make predictions\n",
    "predictions = model.predict(X_test)\n",
    "\n",
    "# Evaluate the model\n",
    "accuracy = accuracy_score(y_test, predictions)\n",
    "print(f\"Accuracy: {accuracy:.2f}\")\n",
    "\n",
    "print(\"\\nClassification Report:\")\n",
    "print(classification_report(y_test, predictions))\n",
    "\n",
    "print(\"\\nConfusion Matrix:\")\n",
    "print(confusion_matrix(y_test, predictions))"
   ]
  },
  {
   "cell_type": "code",
   "execution_count": 23,
   "metadata": {},
   "outputs": [
    {
     "data": {
      "image/png": "[encoded data removed]",
      "text/plain": [
       "<Figure size 576x432 with 2 Axes>"
      ]
     },
     "metadata": {
      "needs_background": "light"
     },
     "output_type": "display_data"
    }
   ],
   "source": [
    "# Calculate confusion matrix\n",
    "conf_matrix = confusion_matrix(y_test, predictions)\n",
    "\n",
    "# Create a heatmap for the confusion matrix\n",
    "plt.figure(figsize=(8, 6))\n",
    "sns.heatmap(conf_matrix, annot=True, fmt='d', cmap='Blues', \n",
    "            xticklabels=['Not Canceled', 'Canceled'], \n",
    "            yticklabels=['Not Canceled', 'Canceled'])\n",
    "plt.xlabel('Predicted')\n",
    "plt.ylabel('Actual')\n",
    "plt.title('Confusion Matrix')\n",
    "plt.show()"
   ]
  },
  {
   "cell_type": "code",
   "execution_count": 26,
   "metadata": {},
   "outputs": [],
   "source": [
    "# hotel_df_copy = hotel_df.copy()\n",
    "\n",
    "# # Feature Engineering\n",
    "# # For instance, creating a new feature 'total_nights_stayed' by combining 'no_of_weekend_nights' and 'no_of_week_nights'\n",
    "# hotel_df_copy['total_nights_stayed'] = hotel_df_copy['no_of_weekend_nights'] + hotel_df_copy['no_of_week_nights']\n",
    "\n",
    "# # EDA - Exploratory Data Analysis\n",
    "# # Checking data distribution and relationships\n",
    "# sns.pairplot(hotel_df_copy[['total_nights_stayed', 'avg_price_per_room', 'no_of_special_requests', 'booking_status']])\n",
    "# plt.show()\n",
    "\n",
    "# # Normalization/Standardization of numerical columns\n",
    "# scaler = StandardScaler()\n",
    "# numerical_cols = ['total_nights_stayed', 'avg_price_per_room', 'no_of_special_requests']\n",
    "# hotel_df_copy[numerical_cols] = scaler.fit_transform(hotel_df_copy[numerical_cols])\n",
    "\n",
    "# # Dimensionality Reduction using PCA\n",
    "# pca = PCA(n_components=2)\n",
    "# pca_data = pca.fit_transform(hotel_df_copy[numerical_cols])\n",
    "\n",
    "# # Creating a DataFrame from PCA output\n",
    "# pca_df = pd.DataFrame(data=pca_data, columns=['PCA1', 'PCA2'])\n",
    "\n",
    "# # Adding the target variable to the PCA DataFrame\n",
    "# pca_df['Booking_Status'] = hotel_df_copy['booking_status']\n",
    "\n",
    "# # Visualizing PCA components with respect to booking status\n",
    "# plt.figure(figsize=(8, 6))\n",
    "# sns.scatterplot(x='PCA1', y='PCA2', hue='Booking_Status', data=pca_df, palette='Set1')\n",
    "# plt.title('PCA Components by Booking Status')\n",
    "# plt.show()"
   ]
  },
  {
   "cell_type": "code",
   "execution_count": 27,
   "metadata": {},
   "outputs": [],
   "source": [
    "# from sklearn.cluster import KMeans\n",
    "\n",
    "# # Assuming 'hotel_df' is the DataFrame after preprocessing\n",
    "\n",
    "# # Selecting relevant features for clustering\n",
    "# clustering_cols = ['total_nights_stayed', 'avg_price_per_room', 'no_of_special_requests']\n",
    "\n",
    "# # Applying K-means clustering\n",
    "# num_clusters = 4  # Number of clusters\n",
    "# kmeans = KMeans(n_clusters=num_clusters, random_state=42)\n",
    "# hotel_df_copy['Cluster_Labels'] = kmeans.fit_predict(hotel_df_copy[clustering_cols])\n",
    "\n",
    "# # Evaluate clustering results\n",
    "# # Assess silhouette score, Davies-Bouldin index, etc.\n",
    "# from sklearn.metrics import silhouette_score, davies_bouldin_score\n",
    "# silhouette = silhouette_score(hotel_df_copy[clustering_cols], hotel_df_copy['Cluster_Labels'])\n",
    "# davies_bouldin = davies_bouldin_score(hotel_df_copy[clustering_cols], hotel_df_copy['Cluster_Labels'])\n",
    "\n",
    "# print(f\"Silhouette Score: {silhouette}\")\n",
    "# print(f\"Davies-Bouldin Index: {davies_bouldin}\")\n"
   ]
  },
  {
   "cell_type": "code",
   "execution_count": null,
   "metadata": {},
   "outputs": [],
   "source": []
  }
 ],
 "metadata": {
  "kernelspec": {
   "display_name": "base",
   "language": "python",
   "name": "python3"
  },
  "language_info": {
   "codemirror_mode": {
    "name": "ipython",
    "version": 3
   },
   "file_extension": ".py",
   "mimetype": "text/x-python",
   "name": "python",
   "nbconvert_exporter": "python",
   "pygments_lexer": "ipython3",
   "version": "3.9.12"
  }
 },
 "nbformat": 4,
 "nbformat_minor": 2
}
