{
 "cells": [
  {
   "cell_type": "code",
   "execution_count": null,
   "metadata": {},
   "outputs": [],
   "source": [
    "# loading libraries for machine learning - predection analysis\n",
    "import pandas as pd\n",
    "from sklearn.model_selection import train_test_split\n",
    "from sklearn.linear_model import LogisticRegression\n",
    "from sklearn.metrics import accuracy_score, classification_report, confusion_matrix"
   ]
  },
  {
   "cell_type": "code",
   "execution_count": null,
   "metadata": {},
   "outputs": [],
   "source": [
    "# loading the file\n",
    "hotel_df = pd.read_csv(\"/Users/georgekalfas/Downloads/ML-HotelReservations/EDA-ML/Hotel Reservations.csv\")"
   ]
  },
  {
   "cell_type": "markdown",
   "metadata": {},
   "source": [
    "# Prediction Models"
   ]
  },
  {
   "cell_type": "code",
   "execution_count": null,
   "metadata": {},
   "outputs": [],
   "source": [
    "# Load your dataset (assuming it's in a DataFrame called 'hotel_df')\n",
    "# Replace 'target_column' with the actual column name you want to predict\n",
    "target_column = 'booking_status'\n",
    "\n",
    "# Select features and target variable\n",
    "features = hotel_df.drop(target_column, axis=1)  # Assuming 'booking_status' is the target\n",
    "target = hotel_df[target_column]\n",
    "\n",
    "# Handle categorical columns if any\n",
    "label_encoder = LabelEncoder()\n",
    "for column in features.columns:\n",
    "    if features[column].dtype == 'object':\n",
    "        features[column] = label_encoder.fit_transform(features[column])\n",
    "\n",
    "# Split the dataset into train and test sets\n",
    "X_train, X_test, y_train, y_test = train_test_split(features, target, test_size=0.2, random_state=42)\n",
    "\n",
    "# Standardize the features\n",
    "scaler = StandardScaler()\n",
    "X_train = scaler.fit_transform(X_train)\n",
    "X_test = scaler.transform(X_test)\n",
    "\n",
    "# Create and train the Logistic Regression model\n",
    "model = LogisticRegression(random_state=42)\n",
    "model.fit(X_train, y_train)\n",
    "\n",
    "# Make predictions\n",
    "predictions = model.predict(X_test)\n",
    "\n",
    "# Evaluate the model\n",
    "accuracy = accuracy_score(y_test, predictions)\n",
    "print(f\"Accuracy: {accuracy:.2f}\")\n",
    "\n",
    "print(\"\\nClassification Report:\")\n",
    "print(classification_report(y_test, predictions))\n",
    "\n",
    "print(\"\\nConfusion Matrix:\")\n",
    "print(confusion_matrix(y_test, predictions))"
   ]
  },
  {
   "cell_type": "code",
   "execution_count": null,
   "metadata": {},
   "outputs": [],
   "source": [
    "# Calculate confusion matrix\n",
    "conf_matrix = confusion_matrix(y_test, predictions)\n",
    "\n",
    "# Create a heatmap for the confusion matrix\n",
    "plt.figure(figsize=(8, 6))\n",
    "sns.heatmap(conf_matrix, annot=True, fmt='d', cmap='Blues', \n",
    "            xticklabels=['Not Canceled', 'Canceled'], \n",
    "            yticklabels=['Not Canceled', 'Canceled'])\n",
    "plt.xlabel('Predicted')\n",
    "plt.ylabel('Actual')\n",
    "plt.title('Confusion Matrix')\n",
    "plt.show()"
   ]
  },
  {
   "cell_type": "code",
   "execution_count": null,
   "metadata": {},
   "outputs": [],
   "source": [
    "# Feature Engineering\n",
    "# For instance, creating a new feature 'total_nights_stayed' by combining 'no_of_weekend_nights' and 'no_of_week_nights'\n",
    "hotel_df_copy['total_nights_stayed'] = hotel_df_copy['no_of_weekend_nights'] + hotel_df_copy['no_of_week_nights']\n",
    "\n",
    "# EDA - Exploratory Data Analysis\n",
    "# Checking data distribution and relationships\n",
    "sns.pairplot(hotel_df_copy[['total_nights_stayed', 'avg_price_per_room', 'no_of_special_requests', 'booking_status']])\n",
    "plt.show()\n",
    "\n",
    "# Normalization/Standardization of numerical columns\n",
    "scaler = StandardScaler()\n",
    "numerical_cols = ['total_nights_stayed', 'avg_price_per_room', 'no_of_special_requests']\n",
    "hotel_df_copy[numerical_cols] = scaler.fit_transform(hotel_df_copy[numerical_cols])\n",
    "\n",
    "# Dimensionality Reduction using PCA\n",
    "pca = PCA(n_components=2)\n",
    "pca_data = pca.fit_transform(hotel_df_copy[numerical_cols])\n",
    "\n",
    "# Creating a DataFrame from PCA output\n",
    "pca_df = pd.DataFrame(data=pca_data, columns=['PCA1', 'PCA2'])\n",
    "\n",
    "# Adding the target variable to the PCA DataFrame\n",
    "pca_df['Booking_Status'] = hotel_df_copy['booking_status']\n",
    "\n",
    "# Visualizing PCA components with respect to booking status\n",
    "plt.figure(figsize=(8, 6))\n",
    "sns.scatterplot(x='PCA1', y='PCA2', hue='Booking_Status', data=pca_df, palette='Set1')\n",
    "plt.title('PCA Components by Booking Status')\n",
    "plt.show()"
   ]
  },
  {
   "cell_type": "code",
   "execution_count": null,
   "metadata": {},
   "outputs": [],
   "source": [
    "from sklearn.cluster import KMeans\n",
    "\n",
    "# Assuming 'hotel_df' is the DataFrame after preprocessing\n",
    "\n",
    "# Selecting relevant features for clustering\n",
    "clustering_cols = ['total_nights_stayed', 'avg_price_per_room', 'no_of_special_requests']\n",
    "\n",
    "# Applying K-means clustering\n",
    "num_clusters = 4  # Number of clusters\n",
    "kmeans = KMeans(n_clusters=num_clusters, random_state=42)\n",
    "hotel_df_copy['Cluster_Labels'] = kmeans.fit_predict(hotel_df_copy[clustering_cols])\n",
    "\n",
    "# Evaluate clustering results\n",
    "# Assess silhouette score, Davies-Bouldin index, etc.\n",
    "from sklearn.metrics import silhouette_score, davies_bouldin_score\n",
    "silhouette = silhouette_score(hotel_df_copy[clustering_cols], hotel_df_copy['Cluster_Labels'])\n",
    "davies_bouldin = davies_bouldin_score(hotel_df_copy[clustering_cols], hotel_df_copy['Cluster_Labels'])\n",
    "\n",
    "print(f\"Silhouette Score: {silhouette}\")\n",
    "print(f\"Davies-Bouldin Index: {davies_bouldin}\")\n"
   ]
  }
 ],
 "metadata": {
  "language_info": {
   "name": "python"
  }
 },
 "nbformat": 4,
 "nbformat_minor": 2
}
